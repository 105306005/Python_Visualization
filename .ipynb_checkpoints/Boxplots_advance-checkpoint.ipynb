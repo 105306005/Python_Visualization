{
 "cells": [
  {
   "cell_type": "markdown",
   "id": "73714ac0",
   "metadata": {},
   "source": [
    "# Boxplots with Python & Seaborn"
   ]
  },
  {
   "cell_type": "markdown",
   "id": "cc14e34d",
   "metadata": {},
   "source": [
    "## <span style='background :yellow'>Creating Boxplots like these bad boys!!! <span>"
   ]
  },
  {
   "cell_type": "markdown",
   "id": "de80bb8b",
   "metadata": {},
   "source": [
    "<img src=\"boxplot1.png\" width=\"900\">"
   ]
  },
  {
   "cell_type": "markdown",
   "id": "c248508e",
   "metadata": {},
   "source": [
    "## Step1: Prepare the data"
   ]
  },
  {
   "cell_type": "markdown",
   "id": "e6c6cc8d",
   "metadata": {},
   "source": [
    "#### Import Standard Libraries"
   ]
  },
  {
   "cell_type": "code",
   "execution_count": 2,
   "id": "e4f4f8a5",
   "metadata": {},
   "outputs": [],
   "source": [
    "import pandas as pd\n",
    "import numpy as np\n",
    "import matplotlib.pyplot as plt\n",
    "import seaborn as sns\n",
    "%matplotlib inline"
   ]
  },
  {
   "cell_type": "markdown",
   "id": "50f671b1",
   "metadata": {},
   "source": [
    "#### Set some dummy data for practice"
   ]
  },
  {
   "cell_type": "markdown",
   "id": "9c56a7cc",
   "metadata": {},
   "source": [
    "I would fake a movie rating from 0 to 10 with my favorite movies - note the function <span style='background :yellow'> random.randint(low, high=None, size=None, dtype=int)  </span>"
   ]
  },
  {
   "cell_type": "code",
   "execution_count": 168,
   "id": "0cc04e3d",
   "metadata": {},
   "outputs": [
    {
     "data": {
      "text/html": [
       "<div>\n",
       "<style scoped>\n",
       "    .dataframe tbody tr th:only-of-type {\n",
       "        vertical-align: middle;\n",
       "    }\n",
       "\n",
       "    .dataframe tbody tr th {\n",
       "        vertical-align: top;\n",
       "    }\n",
       "\n",
       "    .dataframe thead th {\n",
       "        text-align: right;\n",
       "    }\n",
       "</style>\n",
       "<table border=\"1\" class=\"dataframe\">\n",
       "  <thead>\n",
       "    <tr style=\"text-align: right;\">\n",
       "      <th></th>\n",
       "      <th>La La Land</th>\n",
       "      <th>The Lord of the Rings</th>\n",
       "      <th>Harry Potter</th>\n",
       "      <th>Pirates of the Caribbean</th>\n",
       "      <th>Star Wars</th>\n",
       "    </tr>\n",
       "  </thead>\n",
       "  <tbody>\n",
       "    <tr>\n",
       "      <th>0</th>\n",
       "      <td>8</td>\n",
       "      <td>7</td>\n",
       "      <td>9</td>\n",
       "      <td>7</td>\n",
       "      <td>10</td>\n",
       "    </tr>\n",
       "    <tr>\n",
       "      <th>1</th>\n",
       "      <td>6</td>\n",
       "      <td>6</td>\n",
       "      <td>2</td>\n",
       "      <td>7</td>\n",
       "      <td>5</td>\n",
       "    </tr>\n",
       "    <tr>\n",
       "      <th>2</th>\n",
       "      <td>7</td>\n",
       "      <td>7</td>\n",
       "      <td>6</td>\n",
       "      <td>1</td>\n",
       "      <td>8</td>\n",
       "    </tr>\n",
       "    <tr>\n",
       "      <th>3</th>\n",
       "      <td>3</td>\n",
       "      <td>7</td>\n",
       "      <td>3</td>\n",
       "      <td>7</td>\n",
       "      <td>9</td>\n",
       "    </tr>\n",
       "    <tr>\n",
       "      <th>4</th>\n",
       "      <td>4</td>\n",
       "      <td>7</td>\n",
       "      <td>9</td>\n",
       "      <td>3</td>\n",
       "      <td>8</td>\n",
       "    </tr>\n",
       "  </tbody>\n",
       "</table>\n",
       "</div>"
      ],
      "text/plain": [
       "   La La Land  The Lord of the Rings  Harry Potter  Pirates of the Caribbean  \\\n",
       "0           8                      7             9                         7   \n",
       "1           6                      6             2                         7   \n",
       "2           7                      7             6                         1   \n",
       "3           3                      7             3                         7   \n",
       "4           4                      7             9                         3   \n",
       "\n",
       "   Star Wars  \n",
       "0         10  \n",
       "1          5  \n",
       "2          8  \n",
       "3          9  \n",
       "4          8  "
      ]
     },
     "execution_count": 168,
     "metadata": {},
     "output_type": "execute_result"
    }
   ],
   "source": [
    "# set random seed to have the exactly results everytime.\n",
    "np.random.seed(1)\n",
    "\n",
    "df = pd.DataFrame(data={'La La Land':np.random.randint(3, 10, size=30),\n",
    "                        'The Lord of the Rings':np.random.randint(6, 11, size=30),\n",
    "                        'Harry Potter':np.random.randint(2, 10, size=30),\n",
    "                        'Pirates of the Caribbean':np.random.randint(0, 8, size=30),\n",
    "                        'Star Wars':np.random.randint(5, 11, size=30)})\n",
    "# check the dataframe\n",
    "df.head()"
   ]
  },
  {
   "cell_type": "markdown",
   "id": "57d0d8d1",
   "metadata": {},
   "source": [
    "## Step2.1: basic boxplot"
   ]
  },
  {
   "cell_type": "markdown",
   "id": "9e8520a7",
   "metadata": {},
   "source": [
    "### Horizontal boxplot"
   ]
  },
  {
   "cell_type": "markdown",
   "id": "ec4b63f7",
   "metadata": {},
   "source": [
    "<span style='background :yellow'>Specify the x and/or y parameters</span> for seaborn plot to <span style='background :yellow'>avoid warning</span>"
   ]
  },
  {
   "cell_type": "markdown",
   "id": "2475d361",
   "metadata": {},
   "source": [
    "Always use a <span style='background :yellow'>semicolum (;) </span> in the end to avoid printing out something"
   ]
  },
  {
   "cell_type": "code",
   "execution_count": 169,
   "id": "f6c6b967",
   "metadata": {},
   "outputs": [
    {
     "data": {
      "image/png": "[encoded data removed]",
      "text/plain": [
       "<Figure size 432x288 with 1 Axes>"
      ]
     },
     "metadata": {},
     "output_type": "display_data"
    }
   ],
   "source": [
    "sns.set_style(style=\"white\") \n",
    "sns.boxplot(x = df[\"La La Land\"]);"
   ]
  },
  {
   "cell_type": "markdown",
   "id": "cbef3d25",
   "metadata": {},
   "source": [
    "### Vertical boxplot"
   ]
  },
  {
   "cell_type": "code",
   "execution_count": 170,
   "id": "f8597af6",
   "metadata": {},
   "outputs": [
    {
     "data": {
      "image/png": "[encoded data removed]",
      "text/plain": [
       "<Figure size 432x288 with 1 Axes>"
      ]
     },
     "metadata": {},
     "output_type": "display_data"
    }
   ],
   "source": [
    "sns.boxplot(y = df[\"La La Land\"], orient=\"v\");"
   ]
  },
  {
   "cell_type": "markdown",
   "id": "4af5ae4f",
   "metadata": {},
   "source": [
    "## Step2.2: more advance boxplot"
   ]
  },
  {
   "cell_type": "markdown",
   "id": "f8e6eb85",
   "metadata": {},
   "source": [
    "### Apply some style on our figure"
   ]
  },
  {
   "cell_type": "markdown",
   "id": "a7769d11",
   "metadata": {},
   "source": [
    "basically there are five styles:  white, dark, whitegrid, darkgrid, ticks"
   ]
  },
  {
   "cell_type": "code",
   "execution_count": 171,
   "id": "0928bedb",
   "metadata": {},
   "outputs": [
    {
     "data": {
      "image/png": "[encoded data removed]",
      "text/plain": [
       "<Figure size 432x288 with 1 Axes>"
      ]
     },
     "metadata": {},
     "output_type": "display_data"
    },
    {
     "data": {
      "image/png": "[encoded data removed]",
      "text/plain": [
       "<Figure size 432x288 with 1 Axes>"
      ]
     },
     "metadata": {},
     "output_type": "display_data"
    },
    {
     "data": {
      "image/png": "[encoded data removed]",
      "text/plain": [
       "<Figure size 432x288 with 1 Axes>"
      ]
     },
     "metadata": {},
     "output_type": "display_data"
    },
    {
     "data": {
      "image/png": "[encoded data removed]",
      "text/plain": [
       "<Figure size 432x288 with 1 Axes>"
      ]
     },
     "metadata": {},
     "output_type": "display_data"
    },
    {
     "data": {
      "image/png": "[encoded data removed]",
      "text/plain": [
       "<Figure size 432x288 with 1 Axes>"
      ]
     },
     "metadata": {},
     "output_type": "display_data"
    }
   ],
   "source": [
    "# see some different styles and choose one\n",
    "for style in ['white','dark','whitegrid','darkgrid', 'ticks']:\n",
    "    sns.set_style(style=f\"{style}\") \n",
    "    sns.boxplot(x = df['La La Land']);\n",
    "    plt.show()"
   ]
  },
  {
   "cell_type": "code",
   "execution_count": 174,
   "id": "6a6e2095",
   "metadata": {},
   "outputs": [
    {
     "data": {
      "image/png": "[encoded data removed]",
      "text/plain": [
       "<Figure size 720x144 with 1 Axes>"
      ]
     },
     "metadata": {},
     "output_type": "display_data"
    }
   ],
   "source": [
    "# set style - I like the dark style haha\n",
    "sns.set(style='dark')\n",
    "\n",
    "# set figure size\n",
    "fig, ax = plt.subplots(figsize=(10,2))\n",
    "\n",
    "# Seaborn supports assigning colors to plots using matplotlib color codes\n",
    "# or you could just use Color Hex, I like pink\n",
    "# if you like notched boxplots you can add one with the argument notch=True\n",
    "sns.boxplot(x = df['La La Land'], color='#F7347A', width=.5);\n",
    "\n",
    "# Add title and x-label\n",
    "plt.title('Rating of La La Land', fontsize=14)\n",
    "plt.xlabel('Rating')\n",
    "\n",
    "# Show full range of possible values on x-axis (otherwise it is truncated)\n",
    "ax.set(xlim=(0,10)) \n",
    "\n",
    "# Texts that would make this graph more popup - Set the box color/style\n",
    "props = dict(boxstyle='round', facecolor='black', alpha=0.2) \n",
    "ax.text(0.3, 0.4, \"Worst Movie\", fontsize=12, bbox=props)\n",
    "ax.text(8.6, 0.4, \"Great Movie\", fontsize=12, bbox=props)\n",
    "\n",
    "# tight_layout() will help us fit everything in the figure, but I like it more this way.\n",
    "# plt.tight_layout()\n",
    "\n",
    "# optional save figure\n",
    "# use transparent=True to make a transparent background if you want\n",
    "plt.savefig('boxPlot_1.png', dpi=300)"
   ]
  },
  {
   "cell_type": "markdown",
   "id": "6b572f39",
   "metadata": {},
   "source": [
    "## Step3.1:  add multiple boxplots into one figure"
   ]
  },
  {
   "cell_type": "code",
   "execution_count": 198,
   "id": "e1989b7f",
   "metadata": {},
   "outputs": [
    {
     "data": {
      "image/png": "[encoded data removed]",
      "text/plain": [
       "<Figure size 576x432 with 1 Axes>"
      ]
     },
     "metadata": {},
     "output_type": "display_data"
    }
   ],
   "source": [
    "# set style - When adding multple boxplots I recommend choose the style with gird \n",
    "sns.set(style='darkgrid')\n",
    "\n",
    "# set figure size\n",
    "fig, ax = plt.subplots(figsize=(8,6))\n",
    "\n",
    "# create our boxplots and save it in g\n",
    "g = sns.boxplot(data=df, width=0.7)\n",
    "\n",
    "# Titles and labels\n",
    "plt.title(\"Movie Rating\", fontsize=16);\n",
    "\n",
    "# xlabel and ylabel are not necessary with a descriptive title, in my opinion\n",
    "# plt.xlabel(\"Movie Name\", fontsize=14)\n",
    "# plt.ylabel(\"Score (0-10)\", fontsize=14)\n",
    "\n",
    "# X tick-labels - because some of the movies' name are too long, not pretty!\n",
    "xvalues = [\"La La Land\",\"The Lord of\\nthe Rings\",\"Harry Potter\",\n",
    "           \"Pirates of\\nthe Caribbean\",\"Star Wars\"] \n",
    "# set xvalues as xtick values\n",
    "plt.xticks(np.arange(5), xvalues);\n",
    "\n",
    "# Set colors of box plots \n",
    "palette= ['#72147E','#F21170','#FA9905','#FF5200','#00ADB5']\n",
    "color_dict = dict(zip(xvalues, palette))\n",
    "for i in range(0,5):\n",
    "    mybox = g.artists[i]\n",
    "    mybox.set_facecolor(color_dict[xvalues[i]])"
   ]
  },
  {
   "cell_type": "markdown",
   "id": "291c3ddc",
   "metadata": {},
   "source": [
    "## Step3.2:  add multiple boxplots into one figure - more advance"
   ]
  },
  {
   "cell_type": "code",
   "execution_count": 235,
   "id": "4d07a945",
   "metadata": {},
   "outputs": [
    {
     "data": {
      "image/png": "[encoded data removed]",
      "text/plain": [
       "<Figure size 576x432 with 1 Axes>"
      ]
     },
     "metadata": {},
     "output_type": "display_data"
    }
   ],
   "source": [
    "# set style - When adding multple boxplots I recommend choose the style with gird \n",
    "sns.set(style='darkgrid')\n",
    "\n",
    "# set figure size\n",
    "fig, ax = plt.subplots(figsize=(8,6))\n",
    "\n",
    "# create our boxplots and save it in g\n",
    "g = sns.boxplot(data=df, width=0.7)\n",
    "\n",
    "# Titles and labels\n",
    "plt.title(\"Movie Rating\", fontsize=16);\n",
    "\n",
    "# xlabel and ylabel are not necessary with a descriptive title, in my opinion\n",
    "# plt.xlabel(\"Movie Name\", fontsize=14)\n",
    "# plt.ylabel(\"Score (0-10)\", fontsize=14)\n",
    "\n",
    "# X tick-labels - because some of the movies' name are too long, not pretty!\n",
    "xvalues = [\"La La Land\",\"The Lord of\\nthe Rings\",\"Harry Potter\",\n",
    "           \"Pirates of\\nthe Caribbean\",\"Star Wars\"] \n",
    "# set xvalues as xtick values\n",
    "plt.xticks(np.arange(5), xvalues)\n",
    "\n",
    "# Set colors of box plots \n",
    "palette= ['#72147E','#F21170','#FA9905','#FF5200','#00ADB5']\n",
    "color_dict = dict(zip(xvalues, palette))\n",
    "for i in range(0,5):\n",
    "    mybox = g.artists[i]\n",
    "    mybox.set_facecolor(color_dict[xvalues[i]])\n",
    "\n",
    "#--------------------------- pervious code above ----------------------------\n",
    "\n",
    "# Provide mean and standard deviation for each product \n",
    "# Text for movie1\n",
    "mean = round(df['La La Land'].mean(),1)\n",
    "sd = round(df['La La Land'].std(),1)\n",
    "textstr = \"$\\overline {x}$\" + f\" = {mean} \\ns = {sd}\"\n",
    "props = dict(boxstyle='round', facecolor='#72147E', alpha=0.2)\n",
    "g.text(-0.19, -0.1, textstr, fontsize=12, bbox=props);\n",
    "\n",
    "# Text for movie2\n",
    "mean = round(df['The Lord of the Rings'].mean(),1)\n",
    "sd = round(df['The Lord of the Rings'].std(),1)\n",
    "textstr = \"$\\overline {x}$\" + f\" = {mean} \\ns = {sd}\"\n",
    "props = dict(boxstyle='round', facecolor='#F21170', alpha=0.2)\n",
    "g.text(0.81, -0.1, textstr, fontsize=12, bbox=props);\n",
    "\n",
    "# Text for movie3\n",
    "mean = round(df['Harry Potter'].mean(),1)\n",
    "sd = round(df['Harry Potter'].std(),1)\n",
    "textstr = \"$\\overline {x}$\" + f\" = {mean} \\ns = {sd}\"\n",
    "props = dict(boxstyle='round', facecolor='#FA9905', alpha=0.2)\n",
    "g.text(1.81, -0.1, textstr, fontsize=12, bbox=props);\n",
    "\n",
    "# Text for movie4\n",
    "mean = round(df['Pirates of the Caribbean'].mean(),1)\n",
    "sd = round(df['Pirates of the Caribbean'].std(),1)\n",
    "textstr = \"$\\overline {x}$\" + f\" = {mean} \\ns = {sd}\"\n",
    "props = dict(boxstyle='round', facecolor='#FF5200', alpha=0.2)\n",
    "g.text(2.81, -0.1, textstr, fontsize=12, bbox=props);\n",
    "\n",
    "# Text for movie5\n",
    "mean = round(df['Star Wars'].mean(),1)\n",
    "sd = round(df['Star Wars'].std(),1)\n",
    "textstr = \"$\\overline {x}$\" + f\" = {mean} \\ns = {sd}\"\n",
    "props = dict(boxstyle='round', facecolor='#00ADB5', alpha=0.2)\n",
    "g.text(3.81, -0.1, textstr, fontsize=12, bbox=props);"
   ]
  },
  {
   "cell_type": "markdown",
   "id": "c014d39b",
   "metadata": {},
   "source": [
    "## Step4:  multiple boxplots with focus - more advance"
   ]
  },
  {
   "cell_type": "code",
   "execution_count": 240,
   "id": "44cd5c68",
   "metadata": {},
   "outputs": [
    {
     "data": {
      "image/png": "[encoded data removed]",
      "text/plain": [
       "<Figure size 576x432 with 1 Axes>"
      ]
     },
     "metadata": {},
     "output_type": "display_data"
    }
   ],
   "source": [
    "# reordering columns in decending value of the median\n",
    "df_ordered = df[['Pirates of the Caribbean','La La Land','Harry Potter','The Lord of the Rings','Star Wars']]\n",
    "\n",
    "# set style - When adding multple boxplots I recommend choose the style with gird \n",
    "sns.set(style='darkgrid')\n",
    "\n",
    "# set figure size\n",
    "fig, ax = plt.subplots(figsize=(8,6))\n",
    "\n",
    "# create our boxplots and save it in g\n",
    "g = sns.boxplot(data=df, width=0.7)\n",
    "\n",
    "# Titles and labels\n",
    "plt.title(\"Movie Rating with focus\", fontsize=16);\n",
    "\n",
    "# X tick-labels - because some of the movies' name are too long, not pretty!\n",
    "xvalues = [\"Pirates of\\nthe Caribbean\", \"La La Land\",\"Harry Potter\",\"The Lord of\\nthe Rings\",\"Star Wars\"] \n",
    "# set xvalues as xtick values\n",
    "plt.xticks(np.arange(5), xvalues)\n",
    "\n",
    "# Set colors of box plots \n",
    "palette= ['#D8E3E7','#D8E3E7','#D8E3E7','#D8E3E7','#00ADB5']\n",
    "color_dict = dict(zip(xvalues, palette))\n",
    "for i in range(0,5):\n",
    "    mybox = g.artists[i]\n",
    "    mybox.set_facecolor(color_dict[xvalues[i]])\n",
    "\n",
    "#--------------------------- pervious code above ----------------------------\n",
    "\n",
    "# Provide mean and standard deviation for each product \n",
    "# Text for movie1\n",
    "mean = round(df['La La Land'].mean(),1)\n",
    "sd = round(df['La La Land'].std(),1)\n",
    "textstr = \"$\\overline {x}$\" + f\" = {mean} \\ns = {sd}\"\n",
    "props = dict(boxstyle='round', facecolor='#98DDCA', alpha=0.2)\n",
    "g.text(-0.19, -0.1, textstr, fontsize=12, bbox=props);\n",
    "\n",
    "# Text for movie2\n",
    "mean = round(df['The Lord of the Rings'].mean(),1)\n",
    "sd = round(df['The Lord of the Rings'].std(),1)\n",
    "textstr = \"$\\overline {x}$\" + f\" = {mean} \\ns = {sd}\"\n",
    "props = dict(boxstyle='round', facecolor='#98DDCA', alpha=0.2)\n",
    "g.text(0.81, -0.1, textstr, fontsize=12, bbox=props);\n",
    "\n",
    "# Text for movie3\n",
    "mean = round(df['Harry Potter'].mean(),1)\n",
    "sd = round(df['Harry Potter'].std(),1)\n",
    "textstr = \"$\\overline {x}$\" + f\" = {mean} \\ns = {sd}\"\n",
    "props = dict(boxstyle='round', facecolor='#98DDCA', alpha=0.2)\n",
    "g.text(1.81, -0.1, textstr, fontsize=12, bbox=props);\n",
    "\n",
    "# Text for movie4\n",
    "mean = round(df['Pirates of the Caribbean'].mean(),1)\n",
    "sd = round(df['Pirates of the Caribbean'].std(),1)\n",
    "textstr = \"$\\overline {x}$\" + f\" = {mean} \\ns = {sd}\"\n",
    "props = dict(boxstyle='round', facecolor='#98DDCA', alpha=0.2)\n",
    "g.text(2.81, -0.1, textstr, fontsize=12, bbox=props);\n",
    "\n",
    "# Text for movie5\n",
    "mean = round(df['Star Wars'].mean(),1)\n",
    "sd = round(df['Star Wars'].std(),1)\n",
    "textstr = \"$\\overline {x}$\" + f\" = {mean} \\ns = {sd}\"\n",
    "props = dict(boxstyle='round', facecolor='#00ADB5', alpha=0.2)\n",
    "g.text(3.81, -0.1, textstr, fontsize=12, bbox=props);"
   ]
  },
  {
   "cell_type": "code",
   "execution_count": null,
   "id": "67f44820",
   "metadata": {},
   "outputs": [],
   "source": []
  },
  {
   "cell_type": "code",
   "execution_count": null,
   "id": "25a945a5",
   "metadata": {},
   "outputs": [],
   "source": []
  }
 ],
 "metadata": {
  "kernelspec": {
   "display_name": "Python 3",
   "language": "python",
   "name": "python3"
  },
  "language_info": {
   "codemirror_mode": {
    "name": "ipython",
    "version": 3
   },
   "file_extension": ".py",
   "mimetype": "text/x-python",
   "name": "python",
   "nbconvert_exporter": "python",
   "pygments_lexer": "ipython3",
   "version": "3.7.7"
  }
 },
 "nbformat": 4,
 "nbformat_minor": 5
}
